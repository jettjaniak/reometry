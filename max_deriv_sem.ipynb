{
 "cells": [
  {
   "cell_type": "code",
   "execution_count": 7,
   "metadata": {},
   "outputs": [],
   "source": [
    "import pickle\n",
    "\n",
    "import torch\n",
    "from reometry import utils\n",
    "import reometry.hf_model\n",
    "\n",
    "n = 10_000\n",
    "filename = f\"qwen-2-0.5b_L0_L23_P{n}_St30_Se0\"\n",
    "with open(f\"stable_regions/{filename}.pkl\", \"rb\") as f:\n",
    "    id = pickle.load(f)\n",
    "    dist = utils.calculate_resid_read_dist(id)\n",
    "    dist_norm = dist / dist[:, -1:]\n",
    "    dist_median = torch.median(dist_norm, dim=0).values\n",
    "    inter_steps = dist.shape[1]\n",
    "    max_deriv = dist_norm.diff(dim=1).max(dim=1).values * (inter_steps - 1)\n",
    "\n",
    "input_ids = torch.load(f\"stable_regions/{filename}_input_ids.pt\")"
   ]
  },
  {
   "cell_type": "code",
   "execution_count": 8,
   "metadata": {},
   "outputs": [
    {
     "name": "stderr",
     "output_type": "stream",
     "text": [
      "Special tokens have been added in the vocabulary, make sure the associated word embeddings are fine-tuned or trained.\n"
     ]
    }
   ],
   "source": [
    "hf_model = reometry.hf_model.HFModel.from_model_name(\n",
    "    \"qwen-2-0.5b\",\n",
    "    \"cpu\",\n",
    ")\n",
    "tokenizer = hf_model.tokenizer"
   ]
  },
  {
   "cell_type": "code",
   "execution_count": 27,
   "metadata": {},
   "outputs": [
    {
     "data": {
      "image/png": "[encoded data removed]",
      "text/plain": [
       "<Figure size 750x555 with 1 Axes>"
      ]
     },
     "metadata": {},
     "output_type": "display_data"
    }
   ],
   "source": [
    "import matplotlib.pyplot as plt\n",
    "\n",
    "plt.figure(figsize=(5, 3.7), dpi=150)\n",
    "plt.hist(max_deriv.tolist(), bins=100)\n",
    "plt.xlabel(r\"$\\text{max}_\\alpha\\,d'(\\alpha)/d(1)$\")\n",
    "plt.ylabel(\"frequency\")\n",
    "plt.tight_layout()\n",
    "plt.show()"
   ]
  },
  {
   "cell_type": "code",
   "execution_count": 10,
   "metadata": {},
   "outputs": [],
   "source": [
    "# small_idxs = torch.nonzero(dist[:, -1] < 100, as_tuple=True)[0].tolist()\n",
    "# large_idxs = torch.nonzero(dist[:, -1] > 250, as_tuple=True)[0].tolist()\n",
    "small_idxs = torch.nonzero(max_deriv < 1.2, as_tuple=True)[0].tolist()\n",
    "large_idxs = torch.nonzero(max_deriv > 10, as_tuple=True)[0].tolist()\n",
    "import random\n",
    "\n",
    "random.seed(0)\n",
    "small_idxs = random.sample(small_idxs, k=20)\n",
    "large_idxs = random.sample(large_idxs, k=20)"
   ]
  },
  {
   "cell_type": "code",
   "execution_count": 35,
   "metadata": {},
   "outputs": [
    {
     "name": "stdout",
     "output_type": "stream",
     "text": [
      "small\n",
      "$p_A$ = ``\\textbackslash{}r\\textbackslash{}n\\textbackslash{}r\\textbackslash{}nfor the little embellishments you speak of,''\\\\\n",
      "$p_B$ = ``ckles' arrangements with the\\textbackslash{}r\\textbackslash{}n\\textbackslash{}r\\textbackslash{}n      Angel,''\\\\\n",
      "\\\\\n",
      "$p_A$ = ``\\textbackslash{}r\\textbackslash{}n\\textbackslash{}r\\textbackslash{}n\\textbackslash{}r\\textbackslash{}nOak then struck up “Jockey to the''\\\\\n",
      "$p_B$ = `` nothing. The sale of big furniture barely paid the''\\\\\n",
      "\\\\\n",
      "$p_A$ = `` being out of the question, we did the\\textbackslash{}r\\textbackslash{}n\\textbackslash{}r\\textbackslash{}n''\\\\\n",
      "$p_B$ = ``;\\textbackslash{}r\\textbackslash{}n\\textbackslash{}r\\textbackslash{}nAnd from about him fierce effusion rolled\\textbackslash{}r\\textbackslash{}n\\textbackslash{}r\\textbackslash{}n''\\\\\n",
      "\\\\\n",
      "$p_A$ = ``\\textbackslash{}r\\textbackslash{}n\\textbackslash{}r\\textbackslash{}n      it had scratched the varnish from the''\\\\\n",
      "$p_B$ = ``ically; but shall be content\\textbackslash{}r\\textbackslash{}n\\textbackslash{}r\\textbackslash{}nto produce the''\\\\\n",
      "\\\\\n",
      "$p_A$ = ``003:006 And when the''\\\\\n",
      "$p_B$ = `` a year since, how much I am in the''\\\\\n",
      "\\\\\n",
      "$p_A$ = ``ilion\\textbackslash{}r\\textbackslash{}n\\textbackslash{}r\\textbackslash{}nand are beckoning to us.”\\textbackslash{}r\\textbackslash{}n\\textbackslash{}r\\textbackslash{}n\\textbackslash{}r\\textbackslash{}n''\\\\\n",
      "$p_B$ = `` answer; but the accent was decisive enough.\\textbackslash{}r\\textbackslash{}n\\textbackslash{}r\\textbackslash{}n\\textbackslash{}r\\textbackslash{}n''\\\\\n",
      "\\\\\n",
      "$p_A$ = `` I scattered them among the heathen, and''\\\\\n",
      "$p_B$ = `` show himself unto\\textbackslash{}r\\textbackslash{}n\\textbackslash{}r\\textbackslash{}nyou, my children, and''\\\\\n",
      "\\\\\n",
      "$p_A$ = ``Israel, which he commanded our fathers, that they''\\\\\n",
      "$p_B$ = `` the LORD.\\textbackslash{}r\\textbackslash{}n33:31 And they''\\\\\n",
      "\\\\\n",
      "$p_A$ = `` quietly into the tree\\textbackslash{}r\\textbackslash{}n\\textbackslash{}r\\textbackslash{}nbeside him.\\textbackslash{}r\\textbackslash{}n\\textbackslash{}r\\textbackslash{}n\\textbackslash{}r\\textbackslash{}n''\\\\\n",
      "$p_B$ = `` choir, Thea saw that she must have\\textbackslash{}r\\textbackslash{}n\\textbackslash{}r\\textbackslash{}n''\\\\\n",
      "\\\\\n",
      "$p_A$ = `` be Jeddak of Helium. Say\\textbackslash{}r\\textbackslash{}n\\textbackslash{}r\\textbackslash{}n''\\\\\n",
      "$p_B$ = ``ne to hit um wid a rock? How\\textbackslash{}r\\textbackslash{}n\\textbackslash{}r\\textbackslash{}n''\\\\\n",
      "\\\\\n",
      "$p_A$ = `` hide the city of New York under it, and''\\\\\n",
      "$p_B$ = ``: and their glory, and their multitude, and''\\\\\n",
      "\\\\\n",
      "$p_A$ = `` subterranean\\textbackslash{}r\\textbackslash{}n\\textbackslash{}r\\textbackslash{}nchambers for ages,''\\\\\n",
      "$p_B$ = ``, to Tarzan’s\\textbackslash{}r\\textbackslash{}n\\textbackslash{}r\\textbackslash{}nconsternation,''\\\\\n",
      "\\\\\n",
      "$p_A$ = `` to be\\textbackslash{}r\\textbackslash{}n\\textbackslash{}r\\textbackslash{}n      entitled to his full name.''\\\\\n",
      "$p_B$ = `` He took up his candle \\textbackslash{}r\\textbackslash{}n\\textbackslash{}r\\textbackslash{}n\\textbackslash{}t\\textbackslash{}t\\textbackslash{}tto start.''\\\\\n",
      "\\\\\n",
      "$p_A$ = `` and there was the old man down the path a''\\\\\n",
      "$p_B$ = ``as it used to be to keep from reading a''\\\\\n",
      "\\\\\n",
      "$p_A$ = `` more natural time, and I was once more in''\\\\\n",
      "$p_B$ = ``.”\\textbackslash{}r\\textbackslash{}n\\textbackslash{}r\\textbackslash{}n\\textbackslash{}r\\textbackslash{}n“Well, there’s a good deal in''\\\\\n",
      "\\\\\n",
      "$p_A$ = ``, as represented by Sir Percy Blakeney,''\\\\\n",
      "$p_B$ = `` a hundred paces,\\textbackslash{}r\\textbackslash{}n\\textbackslash{}r\\textbackslash{}nalmost without drawing breath,''\\\\\n",
      "\\\\\n",
      "$p_A$ = `` thee.\\textbackslash{}r\\textbackslash{}nPALAMON.\\textbackslash{}r\\textbackslash{}n\\textbackslash{}r\\textbackslash{}nNo more; the''\\\\\n",
      "$p_B$ = ``      Neither boy spoke. If one moved, the''\\\\\n",
      "\\\\\n",
      "$p_A$ = ``GONERIL.\\textbackslash{}r\\textbackslash{}n\\textbackslash{}r\\textbackslash{}nThis admiration, sir,''\\\\\n",
      "$p_B$ = ``: Let us go forth to meet my people,''\\\\\n",
      "\\\\\n",
      "$p_A$ = `` have been here a number\\textbackslash{}r\\textbackslash{}n\\textbackslash{}r\\textbackslash{}n      of times,''\\\\\n",
      "$p_B$ = `` had laboured to do: and, behold,''\\\\\n",
      "\\\\\n",
      "$p_A$ = `` my things are all over Uncle Doc's house,''\\\\\n",
      "$p_B$ = `` Paulvitch hastened back to his quarters,''\\\\\n",
      "\\\\\n",
      "large\n",
      "$p_A$ = ``grandfather’s opinions for the opinions of his father''\\\\\n",
      "$p_B$ = `` local guides:—it falls into a fatal\\textbackslash{}r\\textbackslash{}n\\textbackslash{}r\\textbackslash{}n''\\\\\n",
      "\\\\\n",
      "$p_A$ = `` life, but in short time\\textbackslash{}r\\textbackslash{}n\\textbackslash{}r\\textbackslash{}nAll offices of''\\\\\n",
      "$p_B$ = `` did not know what else\\textbackslash{}r\\textbackslash{}n\\textbackslash{}r\\textbackslash{}nto do.\\textbackslash{}r\\textbackslash{}n\\textbackslash{}r\\textbackslash{}n\\textbackslash{}r\\textbackslash{}n''\\\\\n",
      "\\\\\n",
      "$p_A$ = `` conformity; as a matter of course, of course''\\\\\n",
      "$p_B$ = `` this the emigrant Evrémonde?”\\textbackslash{}r\\textbackslash{}n\\textbackslash{}r\\textbackslash{}n''\\\\\n",
      "\\\\\n",
      "$p_A$ = `` kingdom\\textbackslash{}r\\textbackslash{}n\\textbackslash{}r\\textbackslash{}nalso; for he is mine elder brother''\\\\\n",
      "$p_B$ = `` the host. And Joab and the captains\\textbackslash{}r\\textbackslash{}n\\textbackslash{}r\\textbackslash{}n''\\\\\n",
      "\\\\\n",
      "$p_A$ = `` view with jealousy, view with a jealous eye.\\textbackslash{}r\\textbackslash{}n\\textbackslash{}r\\textbackslash{}n''\\\\\n",
      "$p_B$ = ``ists of\\textbackslash{}r\\textbackslash{}n\\textbackslash{}r\\textbackslash{}n      Octavius looked upon him''\\\\\n",
      "\\\\\n",
      "$p_A$ = ``:\\textbackslash{}r\\textbackslash{}n\\textbackslash{}r\\textbackslash{}nWell may it sort that this portentous''\\\\\n",
      "$p_B$ = `` in time of the cholera, some people\\textbackslash{}r\\textbackslash{}n\\textbackslash{}r\\textbackslash{}n''\\\\\n",
      "\\\\\n",
      "$p_A$ = ``“Who are you?” asked the Scarecrow''\\\\\n",
      "$p_B$ = `` mess of pottage, and that birthright\\textbackslash{}r\\textbackslash{}n\\textbackslash{}r\\textbackslash{}n''\\\\\n",
      "\\\\\n",
      "$p_A$ = ``ema. Nature, poetic, silent, balmy''\\\\\n",
      "$p_B$ = `` way, and walk therein, and ye shall\\textbackslash{}r\\textbackslash{}n\\textbackslash{}r\\textbackslash{}n''\\\\\n",
      "\\\\\n",
      "$p_A$ = ``, saying, On this manner spake David.\\textbackslash{}r\\textbackslash{}n''\\\\\n",
      "$p_B$ = `` medium of Clifford’s\\textbackslash{}r\\textbackslash{}n\\textbackslash{}r\\textbackslash{}nhappiness, it would''\\\\\n",
      "\\\\\n",
      "$p_A$ = `` before Thark, had I seen two men fight''\\\\\n",
      "$p_B$ = ``tered. Elsewhere in the field,\\textbackslash{}r\\textbackslash{}n\\textbackslash{}r\\textbackslash{}nHere,''\\\\\n",
      "\\\\\n",
      "$p_A$ = `` relatively few spoken words exchanged\\textbackslash{}r\\textbackslash{}n\\textbackslash{}r\\textbackslash{}neven in long conversations''\\\\\n",
      "$p_B$ = `` whole congregation together was forty and two thousand three\\textbackslash{}r\\textbackslash{}n\\textbackslash{}r\\textbackslash{}n''\\\\\n",
      "\\\\\n",
      "$p_A$ = ``ITUS LARTIUS; between them,\\textbackslash{}r\\textbackslash{}n\\textbackslash{}r\\textbackslash{}n''\\\\\n",
      "$p_B$ = `` one of the retired\\textbackslash{}r\\textbackslash{}n\\textbackslash{}r\\textbackslash{}nstreets of a not''\\\\\n",
      "\\\\\n",
      "$p_A$ = ``erringly, was also manifest and indisputable''\\\\\n",
      "$p_B$ = `` revolution\\textbackslash{}r\\textbackslash{}n\\textbackslash{}r\\textbackslash{}ncovered with its cloud this summit where r''\\\\\n",
      "\\\\\n",
      "$p_A$ = `` only look at her companion. Eleanor’s countenance''\\\\\n",
      "$p_B$ = `` the tribe of Judah, the mount Zion which''\\\\\n",
      "\\\\\n",
      "$p_A$ = ``to go to Camden Place herself, she should not''\\\\\n",
      "$p_B$ = `` the girl well knew, since he had been\\textbackslash{}r\\textbackslash{}n\\textbackslash{}r\\textbackslash{}n''\\\\\n",
      "\\\\\n",
      "$p_A$ = `` lost\\textbackslash{}r\\textbackslash{}n\\textbackslash{}r\\textbackslash{}nin thought. He retraced his steps''\\\\\n",
      "$p_B$ = `` seemed weak and harmless.\\textbackslash{}r\\textbackslash{}n\\textbackslash{}r\\textbackslash{}n    \\textbackslash{}r\\textbackslash{}n\\textbackslash{}r\\textbackslash{}n\\textbackslash{}r\\textbackslash{}n      What Black''\\\\\n",
      "\\\\\n",
      "$p_A$ = ``    \\textbackslash{}r\\textbackslash{}n\\textbackslash{}r\\textbackslash{}n\\textbackslash{}r\\textbackslash{}n      “Keep it, then,” said''\\\\\n",
      "$p_B$ = `` the champions of the Cross?”\\textbackslash{}r\\textbackslash{}n\\textbackslash{}r\\textbackslash{}n\\textbackslash{}r\\textbackslash{}n“To the Knights''\\\\\n",
      "\\\\\n",
      "$p_A$ = `` tears,\\textbackslash{}r\\textbackslash{}n\\textbackslash{}r\\textbackslash{}ntheir anguish, their terrors, their''\\\\\n",
      "$p_B$ = `` his name be George, I’ll call him Peter''\\\\\n",
      "\\\\\n",
      "$p_A$ = ``\\textbackslash{}xa0MERCHANT. O, 'tis a''\\\\\n",
      "$p_B$ = `` to walk to and fro through the earth.\\textbackslash{}r\\textbackslash{}n\\textbackslash{}r\\textbackslash{}n\\textbackslash{}r\\textbackslash{}n''\\\\\n",
      "\\\\\n",
      "$p_A$ = `` made us for anything but this: to idolize''\\\\\n",
      "$p_B$ = `` ruin.\\textbackslash{}r\\textbackslash{}n\\textbackslash{}r\\textbackslash{}n\\textbackslash{}xa0\\textbackslash{}xa0\\textbackslash{}xa0\\textbackslash{}xa0Is this your Christian counsel?''\\\\\n",
      "\\\\\n"
     ]
    }
   ],
   "source": [
    "def decode_prompt(idx):\n",
    "    decoded = tokenizer.decode(input_ids[idx])\n",
    "    return f\"``{decoded.__repr__()[1:-1].replace('\\\\', '\\\\textbackslash{}')}''\"\n",
    "\n",
    "\n",
    "def show_prompts(idxs):\n",
    "    for idx in idxs:\n",
    "        print(f\"$p_A$ = {decode_prompt(idx)}\\\\\\\\\")\n",
    "        print(f\"$p_B$ = {decode_prompt(idx + 1)}\\\\\\\\\")\n",
    "        print(\"\\\\\\\\\")\n",
    "\n",
    "\n",
    "print(\"small\")\n",
    "show_prompts(small_idxs)\n",
    "print(\"large\")\n",
    "show_prompts(large_idxs)"
   ]
  }
 ],
 "metadata": {
  "kernelspec": {
   "display_name": ".venv",
   "language": "python",
   "name": "python3"
  },
  "language_info": {
   "codemirror_mode": {
    "name": "ipython",
    "version": 3
   },
   "file_extension": ".py",
   "mimetype": "text/x-python",
   "name": "python",
   "nbconvert_exporter": "python",
   "pygments_lexer": "ipython3",
   "version": "3.12.3"
  }
 },
 "nbformat": 4,
 "nbformat_minor": 2
}
